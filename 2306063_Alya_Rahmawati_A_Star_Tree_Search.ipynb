{
  "nbformat": 4,
  "nbformat_minor": 0,
  "metadata": {
    "colab": {
      "provenance": [],
      "authorship_tag": "ABX9TyMrCWHJtNH7N57WZ3HOUiGu",
      "include_colab_link": true
    },
    "kernelspec": {
      "name": "python3",
      "display_name": "Python 3"
    },
    "language_info": {
      "name": "python"
    }
  },
  "cells": [
    {
      "cell_type": "markdown",
      "metadata": {
        "id": "view-in-github",
        "colab_type": "text"
      },
      "source": [
        "<a href=\"https://colab.research.google.com/github/alyarh-11/Praktikum_Informed_Search_Algorithm-/blob/main/2306063_Alya_Rahmawati_A_Star_Tree_Search.ipynb\" target=\"_parent\"><img src=\"https://colab.research.google.com/assets/colab-badge.svg\" alt=\"Open In Colab\"/></a>"
      ]
    },
    {
      "cell_type": "code",
      "execution_count": 1,
      "metadata": {
        "colab": {
          "base_uri": "https://localhost:8080/"
        },
        "id": "s8ETKDvDsWfL",
        "outputId": "51418c8c-cc1a-488e-f64b-fadcf9190b2a"
      },
      "outputs": [
        {
          "output_type": "stream",
          "name": "stdout",
          "text": [
            "Simpul Tujuan Ditemukan: G\n",
            "Total Biaya: 6\n",
            "Jalur yang Ditempuh: S -> B -> D -> G\n"
          ]
        },
        {
          "output_type": "execute_result",
          "data": {
            "text/plain": [
              "True"
            ]
          },
          "metadata": {},
          "execution_count": 1
        }
      ],
      "source": [
        "from queue import PriorityQueue\n",
        "\n",
        "def a_star_tree_search(graph, start, goal, heuristic):\n",
        "    frontier = PriorityQueue()\n",
        "    frontier.put((0 + heuristic[start], 0, start, [start]))  # (priority, cost_so_far, node, path)\n",
        "\n",
        "    while not frontier.empty():\n",
        "        _, cost_so_far, current_node, path = frontier.get()  # Mengambil node dengan prioritas tertinggi\n",
        "\n",
        "        if current_node == goal:\n",
        "            print(\"Simpul Tujuan Ditemukan:\", current_node)\n",
        "            print(\"Total Biaya:\", cost_so_far)\n",
        "            print(\"Jalur yang Ditempuh:\", \" -> \".join(path))\n",
        "            return True\n",
        "\n",
        "        for neighbor, cost in graph[current_node].items():\n",
        "            # Hitung total biaya dari start ke neighbor\n",
        "            total_cost = cost_so_far + cost\n",
        "            # Hitung prioritas (total_cost + heuristic)\n",
        "            priority = total_cost + heuristic[neighbor]\n",
        "            # Simpan jalur baru\n",
        "            new_path = path.copy()\n",
        "            new_path.append(neighbor)\n",
        "            # Masukkan ke frontier\n",
        "            frontier.put((priority, total_cost, neighbor, new_path))\n",
        "\n",
        "    print(\"Simpul Tujuan Tidak Ditemukan\")\n",
        "    return False\n",
        "\n",
        "# Nilai heuristik untuk setiap node\n",
        "heuristic = {\n",
        "    'A': 4,\n",
        "    'B': 3,\n",
        "    'C': 3,\n",
        "    'D': 1,\n",
        "    'S': 6,\n",
        "    'G': 0\n",
        "}\n",
        "\n",
        "# Representasi graf (dengan biaya)\n",
        "graph = {\n",
        "    'S': {'A': 3, 'B': 2},\n",
        "    'A': {'B': 1, 'D': 5},\n",
        "    'B': {'D': 3, 'C': 2},\n",
        "    'C': {'G': 4, 'D': 3},\n",
        "    'D': {'G': 1},\n",
        "}\n",
        "\n",
        "# Node awal dan tujuan\n",
        "start_node = 'S'\n",
        "goal_node = 'G'\n",
        "\n",
        "# Panggil fungsi A* Tree Search\n",
        "a_star_tree_search(graph, start_node, goal_node, heuristic)"
      ]
    }
  ]
}